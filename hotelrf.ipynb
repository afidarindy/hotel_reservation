{
  "nbformat": 4,
  "nbformat_minor": 0,
  "metadata": {
    "colab": {
      "provenance": []
    },
    "kernelspec": {
      "name": "python3",
      "display_name": "Python 3"
    },
    "language_info": {
      "name": "python"
    }
  },
  "cells": [
    {
      "cell_type": "code",
      "source": [
        "from google.colab import drive\n",
        "drive.mount('/content/gdrive')"
      ],
      "metadata": {
        "colab": {
          "base_uri": "https://localhost:8080/"
        },
        "id": "jIb3Jph4spGm",
        "outputId": "d7b6d286-0b73-4141-b0e4-24477645c3dd"
      },
      "execution_count": 4,
      "outputs": [
        {
          "output_type": "stream",
          "name": "stdout",
          "text": [
            "Mounted at /content/gdrive\n"
          ]
        }
      ]
    },
    {
      "cell_type": "markdown",
      "source": [
        "Import the necessary libraries and load the dataset"
      ],
      "metadata": {
        "id": "n9zk6bG8p_KG"
      }
    },
    {
      "cell_type": "code",
      "execution_count": 23,
      "metadata": {
        "id": "OwaQW3unpVtR"
      },
      "outputs": [],
      "source": [
        "import pandas as pd\n",
        "from sklearn.ensemble import RandomForestClassifier\n",
        "\n",
        "# Load data\n",
        "data = pd.read_csv('/content/gdrive/My Drive/Colab Notebooks/hotel_booking.csv')\n"
      ]
    },
    {
      "cell_type": "markdown",
      "source": [
        "Preprocess the data"
      ],
      "metadata": {
        "id": "eOlQuAtLqIKR"
      }
    },
    {
      "cell_type": "code",
      "source": [
        "# Handle missing values\n",
        "data = data.dropna()\n",
        "\n",
        "# Encode categorical variables\n",
        "data = pd.get_dummies(data, columns=['type_of_meal_plan', 'room_type_reserved', 'market_segment_type'])\n",
        "\n",
        "# Split data into training and testing sets\n",
        "from sklearn.model_selection import train_test_split\n",
        "X = data.drop(['Booking_ID', 'booking_status'], axis=1)\n",
        "y = data['booking_status']\n",
        "X_train, X_test, y_train, y_test = train_test_split(X, y, test_size=0.2, random_state=42)"
      ],
      "metadata": {
        "id": "J5w-pvVvp-NL"
      },
      "execution_count": 24,
      "outputs": []
    },
    {
      "cell_type": "markdown",
      "source": [
        "Train the model on the training set"
      ],
      "metadata": {
        "id": "UxBbpBpgqPeu"
      }
    },
    {
      "cell_type": "code",
      "source": [
        "# Train model\n",
        "model = RandomForestClassifier(n_estimators=100, random_state=42)\n",
        "model.fit(X_train, y_train)"
      ],
      "metadata": {
        "colab": {
          "base_uri": "https://localhost:8080/"
        },
        "id": "0zfvrg3lqZqV",
        "outputId": "4de09736-9f1f-498a-df32-8c0f5e302c97"
      },
      "execution_count": 26,
      "outputs": [
        {
          "output_type": "execute_result",
          "data": {
            "text/plain": [
              "RandomForestClassifier(random_state=42)"
            ]
          },
          "metadata": {},
          "execution_count": 26
        }
      ]
    },
    {
      "cell_type": "markdown",
      "source": [
        "Evaluate the model's performance on the testing set."
      ],
      "metadata": {
        "id": "1QOW9mWUqcKe"
      }
    },
    {
      "cell_type": "code",
      "source": [
        "# Evaluate model\n",
        "from sklearn.metrics import accuracy_score\n",
        "y_pred = model.predict(X_test)\n",
        "accuracy = accuracy_score(y_test, y_pred)\n",
        "print(f\"Accuracy: {accuracy}\")"
      ],
      "metadata": {
        "colab": {
          "base_uri": "https://localhost:8080/"
        },
        "id": "MRuIw5BBqh-N",
        "outputId": "b4ad722c-a08c-4063-c670-7e99332ce17c"
      },
      "execution_count": 27,
      "outputs": [
        {
          "output_type": "stream",
          "name": "stdout",
          "text": [
            "Accuracy: 0.9050310130944177\n"
          ]
        }
      ]
    },
    {
      "cell_type": "markdown",
      "source": [
        "Train a Random Forest model"
      ],
      "metadata": {
        "id": "hjr-EPKrqj19"
      }
    },
    {
      "cell_type": "code",
      "source": [
        "# train the random forest classifier\n",
        "rf = RandomForestClassifier(n_estimators=100, random_state=0)\n",
        "rf.fit(X_train, y_train)\n"
      ],
      "metadata": {
        "colab": {
          "base_uri": "https://localhost:8080/"
        },
        "id": "XH1_kgXkqlq9",
        "outputId": "b9d5f8c1-07ae-4ebc-c1f0-cbcbdceadf61"
      },
      "execution_count": 10,
      "outputs": [
        {
          "output_type": "execute_result",
          "data": {
            "text/plain": [
              "RandomForestClassifier(random_state=0)"
            ]
          },
          "metadata": {},
          "execution_count": 10
        }
      ]
    },
    {
      "cell_type": "markdown",
      "source": [
        "Evaluate the model"
      ],
      "metadata": {
        "id": "Mp1FlJ9Iqnkm"
      }
    },
    {
      "cell_type": "code",
      "source": [
        "# evaluate the model\n",
        "y_pred = rf.predict(X_test)\n",
        "print(\"Accuracy:\", accuracy_score(y_test, y_pred))\n",
        "print(\"Confusion Matrix:\\n\", confusion_matrix(y_test, y_pred))\n"
      ],
      "metadata": {
        "colab": {
          "base_uri": "https://localhost:8080/"
        },
        "id": "iLvuHImFqqPO",
        "outputId": "e725d8ea-f738-417a-c653-a0fd316790e6"
      },
      "execution_count": 11,
      "outputs": [
        {
          "output_type": "stream",
          "name": "stdout",
          "text": [
            "Accuracy: 0.9036526533425224\n",
            "Confusion Matrix:\n",
            " [[1935  466]\n",
            " [ 233 4621]]\n"
          ]
        }
      ]
    },
    {
      "cell_type": "markdown",
      "source": [
        "Use the model to predict if a customer will cancel a reservation"
      ],
      "metadata": {
        "id": "HlLhljYPqsEu"
      }
    },
    {
      "cell_type": "code",
      "source": [
        "# Make prediction on new data\n",
        "new_data = pd.DataFrame({\n",
        "    'no_of_adults': [2],\n",
        "    'no_of_children': [1],\n",
        "    'no_of_weekend_nights': [2],\n",
        "    'no_of_week_nights': [3],\n",
        "    'required_car_parking_space': [1],\n",
        "    'lead_time': [30],\n",
        "    'arrival_year': [2023],\n",
        "    'arrival_month': [2],\n",
        "    'arrival_date': [20],\n",
        "    'repeated_guest': [0],\n",
        "    'no_of_previous_cancellations': [1],\n",
        "    'no_of_previous_bookings_not_canceled': [3],\n",
        "    'avg_price_per_room': [100],\n",
        "    'no_of_special_requests': [2],\n",
        "    'type_of_meal_plan_Meal Plan 1': [0],\n",
        "    'type_of_meal_plan_Meal Plan 2': [0],\n",
        "    'type_of_meal_plan_Meal Plan 3': [0],\n",
        "    'type_of_meal_plan_Not Selected': [0],\n",
        "    'room_type_reserved_Room_Type 1': [1],\n",
        "    'room_type_reserved_Room_Type 2': [0],\n",
        "    'room_type_reserved_Room_Type 3': [0],\n",
        "    'room_type_reserved_Room_Type 4': [0],\n",
        "    'room_type_reserved_Room_Type 5': [0],\n",
        "    'room_type_reserved_Room_Type 6': [0],\n",
        "    'room_type_reserved_Room_Type 7': [0],\n",
        "    'market_segment_type_Corporate': [0],\n",
        "    'market_segment_type_Aviation': [0],\n",
        "    'market_segment_type_Complementary': [0],\n",
        "    'market_segment_type_Offline': [1],\n",
        "    'market_segment_type_Online': [0]\n",
        "})\n",
        "prediction = model.predict(new_data)\n",
        "print(f\"Prediction: {prediction}\")\n"
      ],
      "metadata": {
        "colab": {
          "base_uri": "https://localhost:8080/"
        },
        "id": "0cqB-Mo11yDt",
        "outputId": "31d8daa3-d104-4ed7-92a7-bd04ed14d30f"
      },
      "execution_count": 39,
      "outputs": [
        {
          "output_type": "stream",
          "name": "stdout",
          "text": [
            "Prediction: ['Not_Canceled']\n"
          ]
        },
        {
          "output_type": "stream",
          "name": "stderr",
          "text": [
            "/usr/local/lib/python3.8/dist-packages/sklearn/base.py:493: FutureWarning: The feature names should match those that were passed during fit. Starting version 1.2, an error will be raised.\n",
            "Feature names must be in the same order as they were in fit.\n",
            "\n",
            "  warnings.warn(message, FutureWarning)\n"
          ]
        }
      ]
    }
  ]
}